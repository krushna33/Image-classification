{
  "cells": [
    {
      "cell_type": "code",
      "execution_count": 1,
      "metadata": {
        "id": "OhnP-wpmXs3F"
      },
      "outputs": [],
      "source": [
        "from tensorflow import keras\n",
        "import matplotlib.pyplot as plt\n",
        "from sklearn.metrics import accuracy_score,confusion_matrix,classification_report\n",
        "import numpy as np\n",
        "import cv2\n",
        "import numpy as np\n",
        "import tensorflow as tf\n",
        "from tensorflow.keras import layers, models\n",
        "from sklearn.metrics import accuracy_score"
      ]
    },
    {
      "cell_type": "code",
      "execution_count": null,
      "metadata": {
        "colab": {
          "base_uri": "https://localhost:8080/"
        },
        "id": "Z6JBj7Y4YFnR",
        "outputId": "510ce09a-0f47-41c0-8424-2bd35ddfd7c1"
      },
      "outputs": [
        {
          "name": "stdout",
          "output_type": "stream",
          "text": [
            "Downloading data from https://www.cs.toronto.edu/~kriz/cifar-10-python.tar.gz\n",
            "170498071/170498071 [==============================] - 2s 0us/step\n"
          ]
        }
      ],
      "source": [
        "(x_train, y_train), (x_test, y_test) = keras.datasets.cifar10.load_data()"
      ]
    },
    {
      "cell_type": "code",
      "execution_count": null,
      "metadata": {
        "colab": {
          "base_uri": "https://localhost:8080/"
        },
        "id": "_q6xRgvnYMzx",
        "outputId": "401a4574-aa09-4d8b-b856-4c369144dab0"
      },
      "outputs": [
        {
          "data": {
            "text/plain": [
              "((50000, 32, 32, 3), (10000, 32, 32, 3))"
            ]
          },
          "execution_count": 3,
          "metadata": {},
          "output_type": "execute_result"
        }
      ],
      "source": [
        "x_train.shape,x_test.shape"
      ]
    },
    {
      "cell_type": "code",
      "execution_count": null,
      "metadata": {
        "id": "bZAH8zjIYRth"
      },
      "outputs": [],
      "source": [
        "# Normalization\n",
        "x_train = x_train/255.0\n",
        "x_test = x_test/255.0"
      ]
    },
    {
      "cell_type": "markdown",
      "metadata": {
        "id": "4gpqfgMUZbMw"
      },
      "source": [
        "# **Random Forest**"
      ]
    },
    {
      "cell_type": "code",
      "execution_count": null,
      "metadata": {
        "colab": {
          "base_uri": "https://localhost:8080/"
        },
        "id": "arYEyGIEY4p6",
        "outputId": "3979705e-ae9b-471d-de3d-74248e63acdc"
      },
      "outputs": [
        {
          "name": "stderr",
          "output_type": "stream",
          "text": [
            "<ipython-input-5-1ac9a0dda03b>:11: DataConversionWarning: A column-vector y was passed when a 1d array was expected. Please change the shape of y to (n_samples,), for example using ravel().\n",
            "  rf_classifier.fit(x_train_flatten, y_train)\n"
          ]
        },
        {
          "name": "stdout",
          "output_type": "stream",
          "text": [
            "Accuracy: 0.4654\n"
          ]
        }
      ],
      "source": [
        "import numpy as np\n",
        "from sklearn.ensemble import RandomForestClassifier\n",
        "from sklearn.metrics import accuracy_score\n",
        "\n",
        "# Flatten the image data\n",
        "x_train_flatten = x_train.reshape(x_train.shape[0], -1)\n",
        "x_test_flatten = x_test.reshape(x_test.shape[0], -1)\n",
        "\n",
        "# Create and train the Random Forest classifier\n",
        "rf_classifier = RandomForestClassifier(n_estimators=100, random_state=42)\n",
        "rf_classifier.fit(x_train_flatten, y_train)\n",
        "\n",
        "# Make predictions\n",
        "y_pred = rf_classifier.predict(x_test_flatten)\n",
        "\n",
        "# Calculate accuracy\n",
        "accuracy = accuracy_score(y_test, y_pred)\n",
        "print(f\"Accuracy: {accuracy:.4f}\")\n"
      ]
    },
    {
      "cell_type": "code",
      "execution_count": null,
      "metadata": {
        "colab": {
          "base_uri": "https://localhost:8080/"
        },
        "id": "Mjj6uE-1ZRcb",
        "outputId": "50f09700-5da7-4010-d71c-180dcb76bee8"
      },
      "outputs": [
        {
          "name": "stdout",
          "output_type": "stream",
          "text": [
            "              precision    recall  f1-score   support\n",
            "\n",
            "           0       0.56      0.54      0.55      1028\n",
            "           1       0.54      0.52      0.53      1046\n",
            "           2       0.33      0.38      0.35       889\n",
            "           3       0.28      0.33      0.30       856\n",
            "           4       0.38      0.39      0.39       977\n",
            "           5       0.40      0.43      0.41       937\n",
            "           6       0.57      0.47      0.52      1192\n",
            "           7       0.45      0.51      0.48       895\n",
            "           8       0.61      0.58      0.59      1064\n",
            "           9       0.52      0.47      0.50      1116\n",
            "\n",
            "    accuracy                           0.47     10000\n",
            "   macro avg       0.47      0.46      0.46     10000\n",
            "weighted avg       0.47      0.47      0.47     10000\n",
            "\n"
          ]
        }
      ],
      "source": [
        "accuracy_score(y_pred,y_test)\n",
        "print(classification_report(y_pred,y_test))"
      ]
    },
    {
      "cell_type": "markdown",
      "metadata": {
        "id": "5wYNtIYKZejc"
      },
      "source": [
        "# **Implementing a Decision Tree**"
      ]
    },
    {
      "cell_type": "code",
      "execution_count": null,
      "metadata": {
        "colab": {
          "base_uri": "https://localhost:8080/"
        },
        "id": "lEXtGqk0ZuV0",
        "outputId": "9bc59279-5fe9-4d98-bae6-78cfc2a29ea0"
      },
      "outputs": [
        {
          "name": "stdout",
          "output_type": "stream",
          "text": [
            "Accuracy: 0.2663\n"
          ]
        }
      ],
      "source": [
        "import numpy as np\n",
        "from sklearn.tree import DecisionTreeClassifier\n",
        "from sklearn.metrics import accuracy_score\n",
        "\n",
        "# Flatten the image data\n",
        "x_train_flatten = x_train.reshape(x_train.shape[0], -1)\n",
        "x_test_flatten = x_test.reshape(x_test.shape[0], -1)\n",
        "\n",
        "# Create and train the Decision Tree classifier\n",
        "dt_classifier = DecisionTreeClassifier(random_state=42)\n",
        "dt_classifier.fit(x_train_flatten, y_train)\n",
        "\n",
        "# Make predictions\n",
        "y_pred = dt_classifier.predict(x_test_flatten)\n",
        "\n",
        "# Calculate accuracy\n",
        "accuracy = accuracy_score(y_test, y_pred)\n",
        "print(f\"Accuracy: {accuracy:.4f}\")\n"
      ]
    },
    {
      "cell_type": "markdown",
      "metadata": {
        "id": "Xdr8OR5PZyNb"
      },
      "source": [
        "# **Implementating CNN**"
      ]
    },
    {
      "cell_type": "code",
      "source": [
        "(x_train, y_train), (x_test, y_test) = keras.datasets.cifar10.load_data()"
      ],
      "metadata": {
        "id": "iCd-G5m4z54i"
      },
      "execution_count": 2,
      "outputs": []
    },
    {
      "cell_type": "code",
      "source": [
        "# Normalize the image data\n",
        "x_train_normalized = x_train / 255.0\n",
        "x_test_normalized = x_test / 255.0\n",
        "\n",
        "# Define the CNN architecture\n",
        "model = models.Sequential()\n",
        "model.add(layers.Conv2D(32, (3, 3), activation='relu', input_shape=(32, 32, 3)))\n",
        "model.add(layers.MaxPooling2D((2, 2)))\n",
        "model.add(layers.Conv2D(64, (3, 3), activation='relu'))\n",
        "model.add(layers.MaxPooling2D((2, 2)))\n",
        "model.add(layers.Conv2D(64, (3, 3), activation='relu'))\n",
        "model.add(layers.Flatten())\n",
        "model.add(layers.Dense(64, activation='relu'))\n",
        "model.add(layers.Dense(10, activation='softmax'))"
      ],
      "metadata": {
        "id": "bhjQXEKUz2vz"
      },
      "execution_count": 3,
      "outputs": []
    },
    {
      "cell_type": "code",
      "source": [
        "# Compile the model\n",
        "model.compile(optimizer='adam',\n",
        "              loss='sparse_categorical_crossentropy',\n",
        "              metrics=['accuracy'])\n",
        "\n",
        "# Set the number of epochs\n",
        "epochs = 50\n",
        "\n",
        "# Callbacks for saving model and TensorBoard logging\n",
        "callbacks = [\n",
        "    tf.keras.callbacks.ModelCheckpoint(\"save_at_{epoch}.h5\"),\n",
        "    tf.keras.callbacks.TensorBoard(log_dir=\"logs\", write_graph=True, write_images=False, update_freq=\"epoch\"),\n",
        "]\n",
        "\n",
        "# Train the model and evaluate simultaneously\n",
        "history = model.fit(\n",
        "    x=x_train_normalized,\n",
        "    y=y_train,\n",
        "    validation_data=(x_test_normalized, y_test),\n",
        "    epochs=epochs,\n",
        "    callbacks=callbacks\n",
        ")\n",
        "\n",
        "# Evaluate the model on the test data\n",
        "test_loss, test_accuracy = model.evaluate(x_test_normalized, y_test)\n",
        "print(f\"Test accuracy: {test_accuracy:.4f}\")\n"
      ],
      "metadata": {
        "colab": {
          "base_uri": "https://localhost:8080/"
        },
        "id": "PjjTSRrozoh7",
        "outputId": "e5acfa21-ccab-443a-e42e-0606f95b674e"
      },
      "execution_count": 4,
      "outputs": [
        {
          "output_type": "stream",
          "name": "stdout",
          "text": [
            "Epoch 1/50\n",
            "1563/1563 [==============================] - 111s 70ms/step - loss: 1.5255 - accuracy: 0.4431 - val_loss: 1.2558 - val_accuracy: 0.5437\n",
            "Epoch 2/50\n",
            "1563/1563 [==============================] - 88s 56ms/step - loss: 1.1721 - accuracy: 0.5829 - val_loss: 1.0752 - val_accuracy: 0.6171\n",
            "Epoch 3/50\n",
            "1563/1563 [==============================] - 86s 55ms/step - loss: 1.0112 - accuracy: 0.6443 - val_loss: 0.9541 - val_accuracy: 0.6666\n",
            "Epoch 4/50\n",
            "1563/1563 [==============================] - 92s 59ms/step - loss: 0.9075 - accuracy: 0.6802 - val_loss: 0.9265 - val_accuracy: 0.6739\n",
            "Epoch 5/50\n",
            "1563/1563 [==============================] - 85s 54ms/step - loss: 0.8305 - accuracy: 0.7067 - val_loss: 0.9502 - val_accuracy: 0.6676\n",
            "Epoch 6/50\n",
            "1563/1563 [==============================] - 93s 60ms/step - loss: 0.7672 - accuracy: 0.7303 - val_loss: 0.8573 - val_accuracy: 0.7014\n",
            "Epoch 7/50\n",
            "1563/1563 [==============================] - 89s 57ms/step - loss: 0.7201 - accuracy: 0.7479 - val_loss: 0.8607 - val_accuracy: 0.7021\n",
            "Epoch 8/50\n",
            "1563/1563 [==============================] - 84s 54ms/step - loss: 0.6738 - accuracy: 0.7634 - val_loss: 0.9177 - val_accuracy: 0.6946\n",
            "Epoch 9/50\n",
            "1563/1563 [==============================] - 87s 56ms/step - loss: 0.6367 - accuracy: 0.7761 - val_loss: 0.8977 - val_accuracy: 0.6949\n",
            "Epoch 10/50\n",
            "1563/1563 [==============================] - 85s 55ms/step - loss: 0.6005 - accuracy: 0.7886 - val_loss: 0.8600 - val_accuracy: 0.7136\n",
            "Epoch 11/50\n",
            "1563/1563 [==============================] - 92s 59ms/step - loss: 0.5683 - accuracy: 0.7999 - val_loss: 0.8972 - val_accuracy: 0.7067\n",
            "Epoch 12/50\n",
            "1563/1563 [==============================] - 84s 54ms/step - loss: 0.5350 - accuracy: 0.8096 - val_loss: 0.8903 - val_accuracy: 0.7107\n",
            "Epoch 13/50\n",
            "1563/1563 [==============================] - 87s 56ms/step - loss: 0.5072 - accuracy: 0.8212 - val_loss: 0.9002 - val_accuracy: 0.7089\n",
            "Epoch 14/50\n",
            "1563/1563 [==============================] - 85s 54ms/step - loss: 0.4810 - accuracy: 0.8306 - val_loss: 0.9227 - val_accuracy: 0.7163\n",
            "Epoch 15/50\n",
            "1563/1563 [==============================] - 87s 56ms/step - loss: 0.4551 - accuracy: 0.8390 - val_loss: 0.9252 - val_accuracy: 0.7192\n",
            "Epoch 16/50\n",
            "1563/1563 [==============================] - 84s 54ms/step - loss: 0.4288 - accuracy: 0.8473 - val_loss: 0.9883 - val_accuracy: 0.7077\n",
            "Epoch 17/50\n",
            "1563/1563 [==============================] - 85s 55ms/step - loss: 0.4029 - accuracy: 0.8560 - val_loss: 1.0309 - val_accuracy: 0.7058\n",
            "Epoch 18/50\n",
            "1563/1563 [==============================] - 83s 53ms/step - loss: 0.3837 - accuracy: 0.8617 - val_loss: 1.0758 - val_accuracy: 0.6953\n",
            "Epoch 19/50\n",
            "1563/1563 [==============================] - 86s 55ms/step - loss: 0.3645 - accuracy: 0.8695 - val_loss: 1.1029 - val_accuracy: 0.7106\n",
            "Epoch 20/50\n",
            "1563/1563 [==============================] - 85s 55ms/step - loss: 0.3443 - accuracy: 0.8750 - val_loss: 1.1356 - val_accuracy: 0.7056\n",
            "Epoch 21/50\n",
            "1563/1563 [==============================] - 85s 54ms/step - loss: 0.3266 - accuracy: 0.8824 - val_loss: 1.1570 - val_accuracy: 0.7029\n",
            "Epoch 22/50\n",
            "1563/1563 [==============================] - 86s 55ms/step - loss: 0.3047 - accuracy: 0.8894 - val_loss: 1.1799 - val_accuracy: 0.7124\n",
            "Epoch 23/50\n",
            "1563/1563 [==============================] - 85s 54ms/step - loss: 0.2887 - accuracy: 0.8959 - val_loss: 1.3013 - val_accuracy: 0.6908\n",
            "Epoch 24/50\n",
            "1563/1563 [==============================] - 86s 55ms/step - loss: 0.2805 - accuracy: 0.8992 - val_loss: 1.2729 - val_accuracy: 0.7022\n",
            "Epoch 25/50\n",
            "1563/1563 [==============================] - 86s 55ms/step - loss: 0.2605 - accuracy: 0.9057 - val_loss: 1.3381 - val_accuracy: 0.6977\n",
            "Epoch 26/50\n",
            "1563/1563 [==============================] - 92s 59ms/step - loss: 0.2483 - accuracy: 0.9096 - val_loss: 1.4229 - val_accuracy: 0.6952\n",
            "Epoch 27/50\n",
            "1563/1563 [==============================] - 84s 54ms/step - loss: 0.2312 - accuracy: 0.9172 - val_loss: 1.4667 - val_accuracy: 0.6961\n",
            "Epoch 28/50\n",
            "1563/1563 [==============================] - 86s 55ms/step - loss: 0.2245 - accuracy: 0.9182 - val_loss: 1.5511 - val_accuracy: 0.6865\n",
            "Epoch 29/50\n",
            "1563/1563 [==============================] - 89s 57ms/step - loss: 0.2119 - accuracy: 0.9231 - val_loss: 1.5754 - val_accuracy: 0.6980\n",
            "Epoch 30/50\n",
            "1563/1563 [==============================] - 87s 55ms/step - loss: 0.2040 - accuracy: 0.9255 - val_loss: 1.6171 - val_accuracy: 0.6898\n",
            "Epoch 31/50\n",
            "1563/1563 [==============================] - 85s 54ms/step - loss: 0.2039 - accuracy: 0.9255 - val_loss: 1.6203 - val_accuracy: 0.6922\n",
            "Epoch 32/50\n",
            "1563/1563 [==============================] - 87s 55ms/step - loss: 0.1923 - accuracy: 0.9315 - val_loss: 1.7543 - val_accuracy: 0.6803\n",
            "Epoch 33/50\n",
            "1563/1563 [==============================] - 84s 54ms/step - loss: 0.1865 - accuracy: 0.9318 - val_loss: 1.7511 - val_accuracy: 0.6918\n",
            "Epoch 34/50\n",
            "1563/1563 [==============================] - 91s 58ms/step - loss: 0.1759 - accuracy: 0.9381 - val_loss: 1.8217 - val_accuracy: 0.6856\n",
            "Epoch 35/50\n",
            "1563/1563 [==============================] - 85s 54ms/step - loss: 0.1773 - accuracy: 0.9367 - val_loss: 1.7919 - val_accuracy: 0.6868\n",
            "Epoch 36/50\n",
            "1563/1563 [==============================] - 85s 54ms/step - loss: 0.1637 - accuracy: 0.9411 - val_loss: 1.9632 - val_accuracy: 0.6885\n",
            "Epoch 37/50\n",
            "1563/1563 [==============================] - 97s 62ms/step - loss: 0.1622 - accuracy: 0.9419 - val_loss: 1.9022 - val_accuracy: 0.6909\n",
            "Epoch 38/50\n",
            "1563/1563 [==============================] - 86s 55ms/step - loss: 0.1618 - accuracy: 0.9417 - val_loss: 1.9673 - val_accuracy: 0.6857\n",
            "Epoch 39/50\n",
            "1563/1563 [==============================] - 84s 54ms/step - loss: 0.1452 - accuracy: 0.9483 - val_loss: 2.0525 - val_accuracy: 0.6902\n",
            "Epoch 40/50\n",
            "1563/1563 [==============================] - 85s 54ms/step - loss: 0.1554 - accuracy: 0.9443 - val_loss: 2.0667 - val_accuracy: 0.6860\n",
            "Epoch 41/50\n",
            "1563/1563 [==============================] - 86s 55ms/step - loss: 0.1422 - accuracy: 0.9493 - val_loss: 2.1003 - val_accuracy: 0.6807\n",
            "Epoch 42/50\n",
            "1563/1563 [==============================] - 88s 56ms/step - loss: 0.1441 - accuracy: 0.9488 - val_loss: 2.1747 - val_accuracy: 0.6846\n",
            "Epoch 43/50\n",
            "1563/1563 [==============================] - 83s 53ms/step - loss: 0.1337 - accuracy: 0.9526 - val_loss: 2.2330 - val_accuracy: 0.6901\n",
            "Epoch 44/50\n",
            "1563/1563 [==============================] - 80s 51ms/step - loss: 0.1412 - accuracy: 0.9501 - val_loss: 2.3875 - val_accuracy: 0.6847\n",
            "Epoch 45/50\n",
            "1563/1563 [==============================] - 81s 52ms/step - loss: 0.1358 - accuracy: 0.9522 - val_loss: 2.3562 - val_accuracy: 0.6939\n",
            "Epoch 46/50\n",
            "1563/1563 [==============================] - 82s 53ms/step - loss: 0.1287 - accuracy: 0.9544 - val_loss: 2.2910 - val_accuracy: 0.6842\n",
            "Epoch 47/50\n",
            "1563/1563 [==============================] - 86s 55ms/step - loss: 0.1304 - accuracy: 0.9546 - val_loss: 2.3072 - val_accuracy: 0.6809\n",
            "Epoch 48/50\n",
            "1563/1563 [==============================] - 83s 53ms/step - loss: 0.1365 - accuracy: 0.9531 - val_loss: 2.3136 - val_accuracy: 0.6867\n",
            "Epoch 49/50\n",
            "1563/1563 [==============================] - 83s 53ms/step - loss: 0.1256 - accuracy: 0.9565 - val_loss: 2.3972 - val_accuracy: 0.6906\n",
            "Epoch 50/50\n",
            "1563/1563 [==============================] - 83s 53ms/step - loss: 0.1284 - accuracy: 0.9564 - val_loss: 2.4858 - val_accuracy: 0.6830\n",
            "313/313 [==============================] - 6s 18ms/step - loss: 2.4858 - accuracy: 0.6830\n",
            "Test accuracy: 0.6830\n"
          ]
        }
      ]
    },
    {
      "cell_type": "code",
      "source": [
        "import numpy as np\n",
        "# Evaluate the model on the test data\n",
        "test_loss, test_accuracy = model.evaluate(x_test_normalized, y_test)\n",
        "print(f\"Test accuracy: {test_accuracy:.4f}\")\n",
        "\n",
        "# Predict class probabilities for the test data\n",
        "probabilities = model.predict(x_test_normalized)\n",
        "\n",
        "# Define a threshold for low probability\n",
        "probability_threshold = 0.2  # Adjust this value as needed\n",
        "\n",
        "# Generate labels based on probabilities and threshold\n",
        "labels = []\n",
        "for prob in probabilities:\n",
        "    if np.max(prob) >= probability_threshold:\n",
        "        labels.append(np.argmax(prob))\n",
        "    else:\n",
        "        labels.append(\"Image not in data label\")\n",
        "# Print some example results\n",
        "for i in range(10):  # Print results for the first 10 images\n",
        "    true_label = y_test[i]\n",
        "    predicted_label = labels[i]\n",
        "    print(f\"True Label: {true_label}, Predicted Label: {predicted_label}\")"
      ],
      "metadata": {
        "id": "_E5s4TXjiQTg"
      },
      "execution_count": null,
      "outputs": []
    },
    {
      "cell_type": "code",
      "execution_count": 5,
      "metadata": {
        "id": "AB_Rqnh-gXyo"
      },
      "outputs": [],
      "source": [
        "model.save(\"Image_Classification_Model.h5\")"
      ]
    },
    {
      "cell_type": "code",
      "execution_count": 10,
      "metadata": {
        "id": "lLKATrargkzs"
      },
      "outputs": [],
      "source": [
        "# lets explore our metrics a bit\n",
        "import pandas as pd\n",
        "Metrics = pd.DataFrame(model.history.history)"
      ]
    },
    {
      "cell_type": "code",
      "source": [
        "Metrics"
      ],
      "metadata": {
        "colab": {
          "base_uri": "https://localhost:8080/",
          "height": 49
        },
        "id": "Xd9_7q4SGCeQ",
        "outputId": "ab2cb08e-ec39-4ae6-a321-ed03b43bff9a"
      },
      "execution_count": 12,
      "outputs": [
        {
          "output_type": "execute_result",
          "data": {
            "text/plain": [
              "Empty DataFrame\n",
              "Columns: []\n",
              "Index: []"
            ],
            "text/html": [
              "\n",
              "\n",
              "  <div id=\"df-10e655e7-2cda-4a9c-86d2-3942810b5a77\">\n",
              "    <div class=\"colab-df-container\">\n",
              "      <div>\n",
              "<style scoped>\n",
              "    .dataframe tbody tr th:only-of-type {\n",
              "        vertical-align: middle;\n",
              "    }\n",
              "\n",
              "    .dataframe tbody tr th {\n",
              "        vertical-align: top;\n",
              "    }\n",
              "\n",
              "    .dataframe thead th {\n",
              "        text-align: right;\n",
              "    }\n",
              "</style>\n",
              "<table border=\"1\" class=\"dataframe\">\n",
              "  <thead>\n",
              "    <tr style=\"text-align: right;\">\n",
              "      <th></th>\n",
              "    </tr>\n",
              "  </thead>\n",
              "  <tbody>\n",
              "  </tbody>\n",
              "</table>\n",
              "</div>\n",
              "      <button class=\"colab-df-convert\" onclick=\"convertToInteractive('df-10e655e7-2cda-4a9c-86d2-3942810b5a77')\"\n",
              "              title=\"Convert this dataframe to an interactive table.\"\n",
              "              style=\"display:none;\">\n",
              "\n",
              "  <svg xmlns=\"http://www.w3.org/2000/svg\" height=\"24px\"viewBox=\"0 0 24 24\"\n",
              "       width=\"24px\">\n",
              "    <path d=\"M0 0h24v24H0V0z\" fill=\"none\"/>\n",
              "    <path d=\"M18.56 5.44l.94 2.06.94-2.06 2.06-.94-2.06-.94-.94-2.06-.94 2.06-2.06.94zm-11 1L8.5 8.5l.94-2.06 2.06-.94-2.06-.94L8.5 2.5l-.94 2.06-2.06.94zm10 10l.94 2.06.94-2.06 2.06-.94-2.06-.94-.94-2.06-.94 2.06-2.06.94z\"/><path d=\"M17.41 7.96l-1.37-1.37c-.4-.4-.92-.59-1.43-.59-.52 0-1.04.2-1.43.59L10.3 9.45l-7.72 7.72c-.78.78-.78 2.05 0 2.83L4 21.41c.39.39.9.59 1.41.59.51 0 1.02-.2 1.41-.59l7.78-7.78 2.81-2.81c.8-.78.8-2.07 0-2.86zM5.41 20L4 18.59l7.72-7.72 1.47 1.35L5.41 20z\"/>\n",
              "  </svg>\n",
              "      </button>\n",
              "\n",
              "\n",
              "\n",
              "    <div id=\"df-93b44dab-e4c2-4914-babd-95647fb48a73\">\n",
              "      <button class=\"colab-df-quickchart\" onclick=\"quickchart('df-93b44dab-e4c2-4914-babd-95647fb48a73')\"\n",
              "              title=\"Suggest charts.\"\n",
              "              style=\"display:none;\">\n",
              "\n",
              "<svg xmlns=\"http://www.w3.org/2000/svg\" height=\"24px\"viewBox=\"0 0 24 24\"\n",
              "     width=\"24px\">\n",
              "    <g>\n",
              "        <path d=\"M19 3H5c-1.1 0-2 .9-2 2v14c0 1.1.9 2 2 2h14c1.1 0 2-.9 2-2V5c0-1.1-.9-2-2-2zM9 17H7v-7h2v7zm4 0h-2V7h2v10zm4 0h-2v-4h2v4z\"/>\n",
              "    </g>\n",
              "</svg>\n",
              "      </button>\n",
              "    </div>\n",
              "\n",
              "<style>\n",
              "  .colab-df-quickchart {\n",
              "    background-color: #E8F0FE;\n",
              "    border: none;\n",
              "    border-radius: 50%;\n",
              "    cursor: pointer;\n",
              "    display: none;\n",
              "    fill: #1967D2;\n",
              "    height: 32px;\n",
              "    padding: 0 0 0 0;\n",
              "    width: 32px;\n",
              "  }\n",
              "\n",
              "  .colab-df-quickchart:hover {\n",
              "    background-color: #E2EBFA;\n",
              "    box-shadow: 0px 1px 2px rgba(60, 64, 67, 0.3), 0px 1px 3px 1px rgba(60, 64, 67, 0.15);\n",
              "    fill: #174EA6;\n",
              "  }\n",
              "\n",
              "  [theme=dark] .colab-df-quickchart {\n",
              "    background-color: #3B4455;\n",
              "    fill: #D2E3FC;\n",
              "  }\n",
              "\n",
              "  [theme=dark] .colab-df-quickchart:hover {\n",
              "    background-color: #434B5C;\n",
              "    box-shadow: 0px 1px 3px 1px rgba(0, 0, 0, 0.15);\n",
              "    filter: drop-shadow(0px 1px 2px rgba(0, 0, 0, 0.3));\n",
              "    fill: #FFFFFF;\n",
              "  }\n",
              "</style>\n",
              "\n",
              "    <script>\n",
              "      async function quickchart(key) {\n",
              "        const containerElement = document.querySelector('#' + key);\n",
              "        const charts = await google.colab.kernel.invokeFunction(\n",
              "            'suggestCharts', [key], {});\n",
              "      }\n",
              "    </script>\n",
              "\n",
              "      <script>\n",
              "\n",
              "function displayQuickchartButton(domScope) {\n",
              "  let quickchartButtonEl =\n",
              "    domScope.querySelector('#df-93b44dab-e4c2-4914-babd-95647fb48a73 button.colab-df-quickchart');\n",
              "  quickchartButtonEl.style.display =\n",
              "    google.colab.kernel.accessAllowed ? 'block' : 'none';\n",
              "}\n",
              "\n",
              "        displayQuickchartButton(document);\n",
              "      </script>\n",
              "      <style>\n",
              "    .colab-df-container {\n",
              "      display:flex;\n",
              "      flex-wrap:wrap;\n",
              "      gap: 12px;\n",
              "    }\n",
              "\n",
              "    .colab-df-convert {\n",
              "      background-color: #E8F0FE;\n",
              "      border: none;\n",
              "      border-radius: 50%;\n",
              "      cursor: pointer;\n",
              "      display: none;\n",
              "      fill: #1967D2;\n",
              "      height: 32px;\n",
              "      padding: 0 0 0 0;\n",
              "      width: 32px;\n",
              "    }\n",
              "\n",
              "    .colab-df-convert:hover {\n",
              "      background-color: #E2EBFA;\n",
              "      box-shadow: 0px 1px 2px rgba(60, 64, 67, 0.3), 0px 1px 3px 1px rgba(60, 64, 67, 0.15);\n",
              "      fill: #174EA6;\n",
              "    }\n",
              "\n",
              "    [theme=dark] .colab-df-convert {\n",
              "      background-color: #3B4455;\n",
              "      fill: #D2E3FC;\n",
              "    }\n",
              "\n",
              "    [theme=dark] .colab-df-convert:hover {\n",
              "      background-color: #434B5C;\n",
              "      box-shadow: 0px 1px 3px 1px rgba(0, 0, 0, 0.15);\n",
              "      filter: drop-shadow(0px 1px 2px rgba(0, 0, 0, 0.3));\n",
              "      fill: #FFFFFF;\n",
              "    }\n",
              "  </style>\n",
              "\n",
              "      <script>\n",
              "        const buttonEl =\n",
              "          document.querySelector('#df-10e655e7-2cda-4a9c-86d2-3942810b5a77 button.colab-df-convert');\n",
              "        buttonEl.style.display =\n",
              "          google.colab.kernel.accessAllowed ? 'block' : 'none';\n",
              "\n",
              "        async function convertToInteractive(key) {\n",
              "          const element = document.querySelector('#df-10e655e7-2cda-4a9c-86d2-3942810b5a77');\n",
              "          const dataTable =\n",
              "            await google.colab.kernel.invokeFunction('convertToInteractive',\n",
              "                                                     [key], {});\n",
              "          if (!dataTable) return;\n",
              "\n",
              "          const docLinkHtml = 'Like what you see? Visit the ' +\n",
              "            '<a target=\"_blank\" href=https://colab.research.google.com/notebooks/data_table.ipynb>data table notebook</a>'\n",
              "            + ' to learn more about interactive tables.';\n",
              "          element.innerHTML = '';\n",
              "          dataTable['output_type'] = 'display_data';\n",
              "          await google.colab.output.renderOutput(dataTable, element);\n",
              "          const docLink = document.createElement('div');\n",
              "          docLink.innerHTML = docLinkHtml;\n",
              "          element.appendChild(docLink);\n",
              "        }\n",
              "      </script>\n",
              "    </div>\n",
              "  </div>\n"
            ]
          },
          "metadata": {},
          "execution_count": 12
        }
      ]
    },
    {
      "cell_type": "code",
      "execution_count": null,
      "metadata": {
        "id": "t8sS2kbndoM1"
      },
      "outputs": [],
      "source": [
        "# Load the TensorBoard notebook extension\n",
        "%load_ext tensorboard\n",
        "%tensorboard --logdir logs"
      ]
    },
    {
      "cell_type": "code",
      "execution_count": 13,
      "metadata": {
        "colab": {
          "base_uri": "https://localhost:8080/"
        },
        "id": "FgcnbfeZhAKk",
        "outputId": "8c166b63-9622-4221-fb3e-99ec4519f26e"
      },
      "outputs": [
        {
          "output_type": "stream",
          "name": "stdout",
          "text": [
            "Requirement already satisfied: gradio in /usr/local/lib/python3.10/dist-packages (3.40.1)\n",
            "Requirement already satisfied: aiofiles<24.0,>=22.0 in /usr/local/lib/python3.10/dist-packages (from gradio) (23.2.1)\n",
            "Requirement already satisfied: aiohttp~=3.0 in /usr/local/lib/python3.10/dist-packages (from gradio) (3.8.5)\n",
            "Requirement already satisfied: altair<6.0,>=4.2.0 in /usr/local/lib/python3.10/dist-packages (from gradio) (4.2.2)\n",
            "Requirement already satisfied: fastapi in /usr/local/lib/python3.10/dist-packages (from gradio) (0.101.0)\n",
            "Requirement already satisfied: ffmpy in /usr/local/lib/python3.10/dist-packages (from gradio) (0.3.1)\n",
            "Requirement already satisfied: gradio-client>=0.4.0 in /usr/local/lib/python3.10/dist-packages (from gradio) (0.4.0)\n",
            "Requirement already satisfied: httpx in /usr/local/lib/python3.10/dist-packages (from gradio) (0.24.1)\n",
            "Requirement already satisfied: huggingface-hub>=0.14.0 in /usr/local/lib/python3.10/dist-packages (from gradio) (0.16.4)\n",
            "Requirement already satisfied: importlib-resources<7.0,>=1.3 in /usr/local/lib/python3.10/dist-packages (from gradio) (6.0.1)\n",
            "Requirement already satisfied: jinja2<4.0 in /usr/local/lib/python3.10/dist-packages (from gradio) (3.1.2)\n",
            "Requirement already satisfied: markdown-it-py[linkify]>=2.0.0 in /usr/local/lib/python3.10/dist-packages (from gradio) (2.2.0)\n",
            "Requirement already satisfied: markupsafe~=2.0 in /usr/local/lib/python3.10/dist-packages (from gradio) (2.1.3)\n",
            "Requirement already satisfied: matplotlib~=3.0 in /usr/local/lib/python3.10/dist-packages (from gradio) (3.7.1)\n",
            "Requirement already satisfied: mdit-py-plugins<=0.3.3 in /usr/local/lib/python3.10/dist-packages (from gradio) (0.3.3)\n",
            "Requirement already satisfied: numpy~=1.0 in /usr/local/lib/python3.10/dist-packages (from gradio) (1.23.5)\n",
            "Requirement already satisfied: orjson~=3.0 in /usr/local/lib/python3.10/dist-packages (from gradio) (3.9.4)\n",
            "Requirement already satisfied: packaging in /usr/local/lib/python3.10/dist-packages (from gradio) (23.1)\n",
            "Requirement already satisfied: pandas<3.0,>=1.0 in /usr/local/lib/python3.10/dist-packages (from gradio) (1.5.3)\n",
            "Requirement already satisfied: pillow<11.0,>=8.0 in /usr/local/lib/python3.10/dist-packages (from gradio) (9.4.0)\n",
            "Requirement already satisfied: pydantic!=1.8,!=1.8.1,!=2.0.0,!=2.0.1,<3.0.0,>=1.7.4 in /usr/local/lib/python3.10/dist-packages (from gradio) (2.1.1)\n",
            "Requirement already satisfied: pydub in /usr/local/lib/python3.10/dist-packages (from gradio) (0.25.1)\n",
            "Requirement already satisfied: python-multipart in /usr/local/lib/python3.10/dist-packages (from gradio) (0.0.6)\n",
            "Requirement already satisfied: pyyaml<7.0,>=5.0 in /usr/local/lib/python3.10/dist-packages (from gradio) (6.0.1)\n",
            "Requirement already satisfied: requests~=2.0 in /usr/local/lib/python3.10/dist-packages (from gradio) (2.31.0)\n",
            "Requirement already satisfied: semantic-version~=2.0 in /usr/local/lib/python3.10/dist-packages (from gradio) (2.10.0)\n",
            "Requirement already satisfied: typing-extensions~=4.0 in /usr/local/lib/python3.10/dist-packages (from gradio) (4.7.1)\n",
            "Requirement already satisfied: uvicorn>=0.14.0 in /usr/local/lib/python3.10/dist-packages (from gradio) (0.23.2)\n",
            "Requirement already satisfied: websockets<12.0,>=10.0 in /usr/local/lib/python3.10/dist-packages (from gradio) (11.0.3)\n",
            "Requirement already satisfied: attrs>=17.3.0 in /usr/local/lib/python3.10/dist-packages (from aiohttp~=3.0->gradio) (23.1.0)\n",
            "Requirement already satisfied: charset-normalizer<4.0,>=2.0 in /usr/local/lib/python3.10/dist-packages (from aiohttp~=3.0->gradio) (3.2.0)\n",
            "Requirement already satisfied: multidict<7.0,>=4.5 in /usr/local/lib/python3.10/dist-packages (from aiohttp~=3.0->gradio) (6.0.4)\n",
            "Requirement already satisfied: async-timeout<5.0,>=4.0.0a3 in /usr/local/lib/python3.10/dist-packages (from aiohttp~=3.0->gradio) (4.0.2)\n",
            "Requirement already satisfied: yarl<2.0,>=1.0 in /usr/local/lib/python3.10/dist-packages (from aiohttp~=3.0->gradio) (1.9.2)\n",
            "Requirement already satisfied: frozenlist>=1.1.1 in /usr/local/lib/python3.10/dist-packages (from aiohttp~=3.0->gradio) (1.4.0)\n",
            "Requirement already satisfied: aiosignal>=1.1.2 in /usr/local/lib/python3.10/dist-packages (from aiohttp~=3.0->gradio) (1.3.1)\n",
            "Requirement already satisfied: entrypoints in /usr/local/lib/python3.10/dist-packages (from altair<6.0,>=4.2.0->gradio) (0.4)\n",
            "Requirement already satisfied: jsonschema>=3.0 in /usr/local/lib/python3.10/dist-packages (from altair<6.0,>=4.2.0->gradio) (4.19.0)\n",
            "Requirement already satisfied: toolz in /usr/local/lib/python3.10/dist-packages (from altair<6.0,>=4.2.0->gradio) (0.12.0)\n",
            "Requirement already satisfied: fsspec in /usr/local/lib/python3.10/dist-packages (from gradio-client>=0.4.0->gradio) (2023.6.0)\n",
            "Requirement already satisfied: filelock in /usr/local/lib/python3.10/dist-packages (from huggingface-hub>=0.14.0->gradio) (3.12.2)\n",
            "Requirement already satisfied: tqdm>=4.42.1 in /usr/local/lib/python3.10/dist-packages (from huggingface-hub>=0.14.0->gradio) (4.66.0)\n",
            "Requirement already satisfied: mdurl~=0.1 in /usr/local/lib/python3.10/dist-packages (from markdown-it-py[linkify]>=2.0.0->gradio) (0.1.2)\n",
            "Requirement already satisfied: linkify-it-py<3,>=1 in /usr/local/lib/python3.10/dist-packages (from markdown-it-py[linkify]>=2.0.0->gradio) (2.0.2)\n",
            "Requirement already satisfied: contourpy>=1.0.1 in /usr/local/lib/python3.10/dist-packages (from matplotlib~=3.0->gradio) (1.1.0)\n",
            "Requirement already satisfied: cycler>=0.10 in /usr/local/lib/python3.10/dist-packages (from matplotlib~=3.0->gradio) (0.11.0)\n",
            "Requirement already satisfied: fonttools>=4.22.0 in /usr/local/lib/python3.10/dist-packages (from matplotlib~=3.0->gradio) (4.42.0)\n",
            "Requirement already satisfied: kiwisolver>=1.0.1 in /usr/local/lib/python3.10/dist-packages (from matplotlib~=3.0->gradio) (1.4.4)\n",
            "Requirement already satisfied: pyparsing>=2.3.1 in /usr/local/lib/python3.10/dist-packages (from matplotlib~=3.0->gradio) (3.1.1)\n",
            "Requirement already satisfied: python-dateutil>=2.7 in /usr/local/lib/python3.10/dist-packages (from matplotlib~=3.0->gradio) (2.8.2)\n",
            "Requirement already satisfied: pytz>=2020.1 in /usr/local/lib/python3.10/dist-packages (from pandas<3.0,>=1.0->gradio) (2023.3)\n",
            "Requirement already satisfied: annotated-types>=0.4.0 in /usr/local/lib/python3.10/dist-packages (from pydantic!=1.8,!=1.8.1,!=2.0.0,!=2.0.1,<3.0.0,>=1.7.4->gradio) (0.5.0)\n",
            "Requirement already satisfied: pydantic-core==2.4.0 in /usr/local/lib/python3.10/dist-packages (from pydantic!=1.8,!=1.8.1,!=2.0.0,!=2.0.1,<3.0.0,>=1.7.4->gradio) (2.4.0)\n",
            "Requirement already satisfied: idna<4,>=2.5 in /usr/local/lib/python3.10/dist-packages (from requests~=2.0->gradio) (3.4)\n",
            "Requirement already satisfied: urllib3<3,>=1.21.1 in /usr/local/lib/python3.10/dist-packages (from requests~=2.0->gradio) (2.0.4)\n",
            "Requirement already satisfied: certifi>=2017.4.17 in /usr/local/lib/python3.10/dist-packages (from requests~=2.0->gradio) (2023.7.22)\n",
            "Requirement already satisfied: click>=7.0 in /usr/local/lib/python3.10/dist-packages (from uvicorn>=0.14.0->gradio) (8.1.6)\n",
            "Requirement already satisfied: h11>=0.8 in /usr/local/lib/python3.10/dist-packages (from uvicorn>=0.14.0->gradio) (0.14.0)\n",
            "Requirement already satisfied: starlette<0.28.0,>=0.27.0 in /usr/local/lib/python3.10/dist-packages (from fastapi->gradio) (0.27.0)\n",
            "Requirement already satisfied: httpcore<0.18.0,>=0.15.0 in /usr/local/lib/python3.10/dist-packages (from httpx->gradio) (0.17.3)\n",
            "Requirement already satisfied: sniffio in /usr/local/lib/python3.10/dist-packages (from httpx->gradio) (1.3.0)\n",
            "Requirement already satisfied: anyio<5.0,>=3.0 in /usr/local/lib/python3.10/dist-packages (from httpcore<0.18.0,>=0.15.0->httpx->gradio) (3.7.1)\n",
            "Requirement already satisfied: jsonschema-specifications>=2023.03.6 in /usr/local/lib/python3.10/dist-packages (from jsonschema>=3.0->altair<6.0,>=4.2.0->gradio) (2023.7.1)\n",
            "Requirement already satisfied: referencing>=0.28.4 in /usr/local/lib/python3.10/dist-packages (from jsonschema>=3.0->altair<6.0,>=4.2.0->gradio) (0.30.2)\n",
            "Requirement already satisfied: rpds-py>=0.7.1 in /usr/local/lib/python3.10/dist-packages (from jsonschema>=3.0->altair<6.0,>=4.2.0->gradio) (0.9.2)\n",
            "Requirement already satisfied: uc-micro-py in /usr/local/lib/python3.10/dist-packages (from linkify-it-py<3,>=1->markdown-it-py[linkify]>=2.0.0->gradio) (1.0.2)\n",
            "Requirement already satisfied: six>=1.5 in /usr/local/lib/python3.10/dist-packages (from python-dateutil>=2.7->matplotlib~=3.0->gradio) (1.16.0)\n",
            "Requirement already satisfied: exceptiongroup in /usr/local/lib/python3.10/dist-packages (from anyio<5.0,>=3.0->httpcore<0.18.0,>=0.15.0->httpx->gradio) (1.1.2)\n"
          ]
        }
      ],
      "source": [
        "!pip install gradio"
      ]
    },
    {
      "cell_type": "code",
      "execution_count": 15,
      "metadata": {
        "colab": {
          "base_uri": "https://localhost:8080/",
          "height": 740
        },
        "id": "X4RdS1q7hy8n",
        "outputId": "8713d986-1d1f-4334-c73d-6b075c0b786e"
      },
      "outputs": [
        {
          "output_type": "stream",
          "name": "stderr",
          "text": [
            "<ipython-input-15-6c765dc1e031>:46: GradioDeprecationWarning: Usage of gradio.inputs is deprecated, and will not be supported in the future, please import your component from gradio.components\n",
            "  inputs=gr.inputs.Image(type=\"pil\"),\n",
            "<ipython-input-15-6c765dc1e031>:46: GradioDeprecationWarning: `optional` parameter is deprecated, and it has no effect\n",
            "  inputs=gr.inputs.Image(type=\"pil\"),\n",
            "<ipython-input-15-6c765dc1e031>:47: GradioDeprecationWarning: Usage of gradio.outputs is deprecated, and will not be supported in the future, please import your components from gradio.components\n",
            "  outputs=gr.outputs.Textbox(),\n"
          ]
        },
        {
          "output_type": "stream",
          "name": "stdout",
          "text": [
            "Colab notebook detected. To show errors in colab notebook, set debug=True in launch()\n",
            "Note: opening Chrome Inspector may crash demo inside Colab notebooks.\n",
            "\n",
            "To create a public link, set `share=True` in `launch()`.\n"
          ]
        },
        {
          "output_type": "display_data",
          "data": {
            "text/plain": [
              "<IPython.core.display.Javascript object>"
            ],
            "application/javascript": [
              "(async (port, path, width, height, cache, element) => {\n",
              "                        if (!google.colab.kernel.accessAllowed && !cache) {\n",
              "                            return;\n",
              "                        }\n",
              "                        element.appendChild(document.createTextNode(''));\n",
              "                        const url = await google.colab.kernel.proxyPort(port, {cache});\n",
              "\n",
              "                        const external_link = document.createElement('div');\n",
              "                        external_link.innerHTML = `\n",
              "                            <div style=\"font-family: monospace; margin-bottom: 0.5rem\">\n",
              "                                Running on <a href=${new URL(path, url).toString()} target=\"_blank\">\n",
              "                                    https://localhost:${port}${path}\n",
              "                                </a>\n",
              "                            </div>\n",
              "                        `;\n",
              "                        element.appendChild(external_link);\n",
              "\n",
              "                        const iframe = document.createElement('iframe');\n",
              "                        iframe.src = new URL(path, url).toString();\n",
              "                        iframe.height = height;\n",
              "                        iframe.allow = \"autoplay; camera; microphone; clipboard-read; clipboard-write;\"\n",
              "                        iframe.width = width;\n",
              "                        iframe.style.border = 0;\n",
              "                        element.appendChild(iframe);\n",
              "                    })(7861, \"/\", \"100%\", 500, false, window.element)"
            ]
          },
          "metadata": {}
        },
        {
          "output_type": "execute_result",
          "data": {
            "text/plain": []
          },
          "metadata": {},
          "execution_count": 15
        }
      ],
      "source": [
        "import gradio as gr\n",
        "import numpy as np\n",
        "import tensorflow as tf\n",
        "from tensorflow.keras.models import load_model\n",
        "from PIL import Image\n",
        "\n",
        "# Load your CNN model\n",
        "model_path = \"Image_Classification_Model.h5\"  # Update with your model's path\n",
        "model = load_model(model_path)\n",
        "\n",
        "# Define class labels\n",
        "class_labels = {\n",
        "    0: 'airplane',\n",
        "    1: 'automobile',\n",
        "    2: 'bird',\n",
        "    3: 'cat',\n",
        "    4: 'deer',\n",
        "    5: 'dog',\n",
        "    6: 'frog',\n",
        "    7: 'horse',\n",
        "    8: 'ship',\n",
        "    9: 'truck'\n",
        "}\n",
        "\n",
        "# Function to classify images\n",
        "def classify_image(image):\n",
        "    # Preprocess the image\n",
        "    image = image.resize((32, 32))  # Resize to match your model's input size\n",
        "    image = np.array(image)\n",
        "    image = image.astype('float32') / 255.0\n",
        "    image = np.expand_dims(image, axis=0)\n",
        "\n",
        "    # Get the predicted class probabilities\n",
        "    predictions = model.predict(image)\n",
        "    predicted_class_probs = predictions[0]\n",
        "\n",
        "    # Prepare label and probability information\n",
        "    label_probs = []\n",
        "    high_prob_found = False\n",
        "    for idx, prob in enumerate(predicted_class_probs):\n",
        "        if prob >= 0.3:\n",
        "            label_name = class_labels[idx]\n",
        "            if prob > 0.6:  # Highlight high-probability labels\n",
        "                label_name = f\"<span style='color:black; background-color:#FFD700'>{label_name}</span>\"\n",
        "                high_prob_found = True\n",
        "            label_probs.append(f\"{label_name}: {prob:.4f}\")\n",
        "\n",
        "    # If no high probability label found, show \"Not in data label\"\n",
        "    if not high_prob_found:\n",
        "        label_probs = [\"Not in data label\"]\n",
        "\n",
        "    # Return the class labels and their probabilities\n",
        "    return \"<br>\".join(label_probs)\n",
        "\n",
        "# Define the Gradio interface\n",
        "iface = gr.Interface(\n",
        "    fn=classify_image,\n",
        "    inputs=gr.inputs.Image(type=\"pil\"),\n",
        "    outputs=gr.outputs.HTML(),  # Use HTML output for custom font colors\n",
        "    live=True,\n",
        "    title=\"Image Classification with CNN\",\n",
        "    description=f\"Available data labels: {', '.join(class_labels.values())}\"\n",
        ")\n",
        "\n",
        "# Launch the interface\n",
        "iface.launch()\n"
      ]
    },
    {
      "cell_type": "code",
      "source": [
        "# Launch the interface\n",
        "iface.launch(share=True)"
      ],
      "metadata": {
        "id": "Nk4Qks9yHBlF"
      },
      "execution_count": null,
      "outputs": []
    }
  ],
  "metadata": {
    "colab": {
      "provenance": []
    },
    "kernelspec": {
      "display_name": "Python 3",
      "name": "python3"
    },
    "language_info": {
      "name": "python"
    }
  },
  "nbformat": 4,
  "nbformat_minor": 0
}